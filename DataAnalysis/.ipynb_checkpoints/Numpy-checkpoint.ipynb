{
 "cells": [
  {
   "cell_type": "markdown",
   "metadata": {},
   "source": [
    "# Data Analysis\n"
   ]
  },
  {
   "cell_type": "code",
   "execution_count": 3,
   "metadata": {},
   "outputs": [
    {
     "name": "stdout",
     "output_type": "stream",
     "text": [
      "anaysis       class3.ipynb  lesson1.ipynb  README.md\r\n",
      "class2.ipynb  Data\t    Numpy.ipynb\r\n"
     ]
    }
   ],
   "source": [
    "!ls\n"
   ]
  },
  {
   "cell_type": "code",
   "execution_count": 2,
   "metadata": {
    "collapsed": true
   },
   "outputs": [],
   "source": [
    "!mkdir Data anaysis\n"
   ]
  },
  {
   "cell_type": "code",
   "execution_count": 4,
   "metadata": {
    "collapsed": true
   },
   "outputs": [],
   "source": [
    "!mv Data DataAnalysis"
   ]
  },
  {
   "cell_type": "code",
   "execution_count": 5,
   "metadata": {},
   "outputs": [
    {
     "name": "stdout",
     "output_type": "stream",
     "text": [
      "anaysis       class3.ipynb  lesson1.ipynb  README.md\r\n",
      "class2.ipynb  DataAnalysis  Numpy.ipynb\r\n"
     ]
    }
   ],
   "source": [
    "!ls"
   ]
  },
  {
   "cell_type": "code",
   "execution_count": 2,
   "metadata": {
    "collapsed": true
   },
   "outputs": [],
   "source": [
    "import numpy as np"
   ]
  },
  {
   "cell_type": "markdown",
   "metadata": {},
   "source": [
    "SCIPY for scintific notation\n",
    "NUMPY is built on SCIPY"
   ]
  },
  {
   "cell_type": "code",
   "execution_count": 3,
   "metadata": {
    "collapsed": true
   },
   "outputs": [],
   "source": [
    "a = range(10)"
   ]
  },
  {
   "cell_type": "code",
   "execution_count": 13,
   "metadata": {},
   "outputs": [],
   "source": [
    "b = list(a)"
   ]
  },
  {
   "cell_type": "code",
   "execution_count": 6,
   "metadata": {},
   "outputs": [
    {
     "data": {
      "text/plain": [
       "list"
      ]
     },
     "execution_count": 6,
     "metadata": {},
     "output_type": "execute_result"
    }
   ],
   "source": [
    "type(list(a))"
   ]
  },
  {
   "cell_type": "markdown",
   "metadata": {},
   "source": [
    "type(list(a)) = LIST\n",
    "type(a) = RANGE\n"
   ]
  },
  {
   "cell_type": "code",
   "execution_count": 17,
   "metadata": {},
   "outputs": [],
   "source": [
    "c = np.array(b)"
   ]
  },
  {
   "cell_type": "markdown",
   "metadata": {},
   "source": [
    "strictly works on numbers, if list will have character it will not accept it\n"
   ]
  },
  {
   "cell_type": "code",
   "execution_count": 8,
   "metadata": {
    "collapsed": true
   },
   "outputs": [],
   "source": [
    "s = ['a','b','c']"
   ]
  },
  {
   "cell_type": "code",
   "execution_count": 11,
   "metadata": {},
   "outputs": [],
   "source": [
    "s = np.array(s)"
   ]
  },
  {
   "cell_type": "code",
   "execution_count": 12,
   "metadata": {},
   "outputs": [
    {
     "data": {
      "text/plain": [
       "numpy.ndarray"
      ]
     },
     "execution_count": 12,
     "metadata": {},
     "output_type": "execute_result"
    }
   ],
   "source": [
    "\n",
    "type(s)"
   ]
  },
  {
   "cell_type": "code",
   "execution_count": 16,
   "metadata": {},
   "outputs": [
    {
     "data": {
      "text/plain": [
       "list"
      ]
     },
     "execution_count": 16,
     "metadata": {},
     "output_type": "execute_result"
    }
   ],
   "source": [
    "type(b)"
   ]
  },
  {
   "cell_type": "code",
   "execution_count": 18,
   "metadata": {},
   "outputs": [
    {
     "data": {
      "text/plain": [
       "numpy.ndarray"
      ]
     },
     "execution_count": 18,
     "metadata": {},
     "output_type": "execute_result"
    }
   ],
   "source": [
    "type(c)"
   ]
  },
  {
   "cell_type": "markdown",
   "metadata": {},
   "source": [
    "Range of NP"
   ]
  },
  {
   "cell_type": "code",
   "execution_count": 19,
   "metadata": {
    "collapsed": true
   },
   "outputs": [],
   "source": [
    "arr = np.arange(10)   "
   ]
  },
  {
   "cell_type": "code",
   "execution_count": 20,
   "metadata": {},
   "outputs": [
    {
     "data": {
      "text/plain": [
       "array([0, 1, 2, 3, 4, 5, 6, 7, 8, 9])"
      ]
     },
     "execution_count": 20,
     "metadata": {},
     "output_type": "execute_result"
    }
   ],
   "source": [
    "arr"
   ]
  },
  {
   "cell_type": "code",
   "execution_count": 21,
   "metadata": {},
   "outputs": [
    {
     "data": {
      "text/plain": [
       "array([ 2,  3,  4,  5,  6,  7,  8,  9, 10, 11])"
      ]
     },
     "execution_count": 21,
     "metadata": {},
     "output_type": "execute_result"
    }
   ],
   "source": [
    "arr +2"
   ]
  },
  {
   "cell_type": "code",
   "execution_count": 22,
   "metadata": {},
   "outputs": [
    {
     "data": {
      "text/plain": [
       "array([ 0,  1,  4,  9, 16, 25, 36, 49, 64, 81])"
      ]
     },
     "execution_count": 22,
     "metadata": {},
     "output_type": "execute_result"
    }
   ],
   "source": [
    "arr * arr"
   ]
  },
  {
   "cell_type": "code",
   "execution_count": 23,
   "metadata": {},
   "outputs": [
    {
     "data": {
      "text/plain": [
       "array([ 0,  2,  4,  6,  8, 10])"
      ]
     },
     "execution_count": 23,
     "metadata": {},
     "output_type": "execute_result"
    }
   ],
   "source": [
    "np.arange(0,11,2)"
   ]
  },
  {
   "cell_type": "code",
   "execution_count": 24,
   "metadata": {},
   "outputs": [
    {
     "data": {
      "text/plain": [
       "array([], dtype=int64)"
      ]
     },
     "execution_count": 24,
     "metadata": {},
     "output_type": "execute_result"
    }
   ],
   "source": [
    "np.arange(0,11,-2)"
   ]
  },
  {
   "cell_type": "code",
   "execution_count": 25,
   "metadata": {},
   "outputs": [
    {
     "data": {
      "text/plain": [
       "array([11,  9,  7,  5,  3,  1])"
      ]
     },
     "execution_count": 25,
     "metadata": {},
     "output_type": "execute_result"
    }
   ],
   "source": [
    "np.arange(11,0,-2)"
   ]
  },
  {
   "cell_type": "code",
   "execution_count": 34,
   "metadata": {},
   "outputs": [],
   "source": [
    "zero_arr = np.zeros(10000)"
   ]
  },
  {
   "cell_type": "code",
   "execution_count": 28,
   "metadata": {},
   "outputs": [
    {
     "data": {
      "text/plain": [
       "(4,)"
      ]
     },
     "execution_count": 28,
     "metadata": {},
     "output_type": "execute_result"
    }
   ],
   "source": [
    "zero_arr.shape"
   ]
  },
  {
   "cell_type": "code",
   "execution_count": 35,
   "metadata": {},
   "outputs": [],
   "source": [
    "reshape_zero = zero_arr.reshape(10,1000)"
   ]
  },
  {
   "cell_type": "code",
   "execution_count": 36,
   "metadata": {},
   "outputs": [
    {
     "data": {
      "text/plain": [
       "(10, 1000)"
      ]
     },
     "execution_count": 36,
     "metadata": {},
     "output_type": "execute_result"
    }
   ],
   "source": [
    "reshape_zero.shape"
   ]
  },
  {
   "cell_type": "code",
   "execution_count": 37,
   "metadata": {},
   "outputs": [
    {
     "data": {
      "text/plain": [
       "array([  0.,   5.,  10.])"
      ]
     },
     "execution_count": 37,
     "metadata": {},
     "output_type": "execute_result"
    }
   ],
   "source": [
    "np.linspace(0,10,3)"
   ]
  },
  {
   "cell_type": "code",
   "execution_count": 38,
   "metadata": {},
   "outputs": [
    {
     "data": {
      "text/plain": [
       "array([  0.        ,   3.33333333,   6.66666667,  10.        ])"
      ]
     },
     "execution_count": 38,
     "metadata": {},
     "output_type": "execute_result"
    }
   ],
   "source": [
    "np.linspace(0,10,4)"
   ]
  },
  {
   "cell_type": "code",
   "execution_count": 39,
   "metadata": {},
   "outputs": [
    {
     "data": {
      "text/plain": [
       "array([  0.        ,   0.04784689,   0.09569378,   0.14354067,\n",
       "         0.19138756,   0.23923445,   0.28708134,   0.33492823,\n",
       "         0.38277512,   0.43062201,   0.4784689 ,   0.52631579,\n",
       "         0.57416268,   0.62200957,   0.66985646,   0.71770335,\n",
       "         0.76555024,   0.81339713,   0.86124402,   0.90909091,\n",
       "         0.9569378 ,   1.00478469,   1.05263158,   1.10047847,\n",
       "         1.14832536,   1.19617225,   1.24401914,   1.29186603,\n",
       "         1.33971292,   1.38755981,   1.4354067 ,   1.48325359,\n",
       "         1.53110048,   1.57894737,   1.62679426,   1.67464115,\n",
       "         1.72248804,   1.77033493,   1.81818182,   1.86602871,\n",
       "         1.9138756 ,   1.96172249,   2.00956938,   2.05741627,\n",
       "         2.10526316,   2.15311005,   2.20095694,   2.24880383,\n",
       "         2.29665072,   2.34449761,   2.3923445 ,   2.44019139,\n",
       "         2.48803828,   2.53588517,   2.58373206,   2.63157895,\n",
       "         2.67942584,   2.72727273,   2.77511962,   2.82296651,\n",
       "         2.8708134 ,   2.91866029,   2.96650718,   3.01435407,\n",
       "         3.06220096,   3.11004785,   3.15789474,   3.20574163,\n",
       "         3.25358852,   3.30143541,   3.3492823 ,   3.39712919,\n",
       "         3.44497608,   3.49282297,   3.54066986,   3.58851675,\n",
       "         3.63636364,   3.68421053,   3.73205742,   3.77990431,\n",
       "         3.8277512 ,   3.87559809,   3.92344498,   3.97129187,\n",
       "         4.01913876,   4.06698565,   4.11483254,   4.16267943,\n",
       "         4.21052632,   4.25837321,   4.3062201 ,   4.35406699,\n",
       "         4.40191388,   4.44976077,   4.49760766,   4.54545455,\n",
       "         4.59330144,   4.64114833,   4.68899522,   4.73684211,\n",
       "         4.784689  ,   4.83253589,   4.88038278,   4.92822967,\n",
       "         4.97607656,   5.02392344,   5.07177033,   5.11961722,\n",
       "         5.16746411,   5.215311  ,   5.26315789,   5.31100478,\n",
       "         5.35885167,   5.40669856,   5.45454545,   5.50239234,\n",
       "         5.55023923,   5.59808612,   5.64593301,   5.6937799 ,\n",
       "         5.74162679,   5.78947368,   5.83732057,   5.88516746,\n",
       "         5.93301435,   5.98086124,   6.02870813,   6.07655502,\n",
       "         6.12440191,   6.1722488 ,   6.22009569,   6.26794258,\n",
       "         6.31578947,   6.36363636,   6.41148325,   6.45933014,\n",
       "         6.50717703,   6.55502392,   6.60287081,   6.6507177 ,\n",
       "         6.69856459,   6.74641148,   6.79425837,   6.84210526,\n",
       "         6.88995215,   6.93779904,   6.98564593,   7.03349282,\n",
       "         7.08133971,   7.1291866 ,   7.17703349,   7.22488038,\n",
       "         7.27272727,   7.32057416,   7.36842105,   7.41626794,\n",
       "         7.46411483,   7.51196172,   7.55980861,   7.6076555 ,\n",
       "         7.65550239,   7.70334928,   7.75119617,   7.79904306,\n",
       "         7.84688995,   7.89473684,   7.94258373,   7.99043062,\n",
       "         8.03827751,   8.0861244 ,   8.13397129,   8.18181818,\n",
       "         8.22966507,   8.27751196,   8.32535885,   8.37320574,\n",
       "         8.42105263,   8.46889952,   8.51674641,   8.5645933 ,\n",
       "         8.61244019,   8.66028708,   8.70813397,   8.75598086,\n",
       "         8.80382775,   8.85167464,   8.89952153,   8.94736842,\n",
       "         8.99521531,   9.0430622 ,   9.09090909,   9.13875598,\n",
       "         9.18660287,   9.23444976,   9.28229665,   9.33014354,\n",
       "         9.37799043,   9.42583732,   9.47368421,   9.5215311 ,\n",
       "         9.56937799,   9.61722488,   9.66507177,   9.71291866,\n",
       "         9.76076555,   9.80861244,   9.85645933,   9.90430622,\n",
       "         9.95215311,  10.        ])"
      ]
     },
     "execution_count": 39,
     "metadata": {},
     "output_type": "execute_result"
    }
   ],
   "source": [
    "np.linspace(0,10,210\n",
    "           )"
   ]
  },
  {
   "cell_type": "code",
   "execution_count": 40,
   "metadata": {},
   "outputs": [
    {
     "data": {
      "text/plain": [
       "array([[ 1.,  0.,  0.,  0.],\n",
       "       [ 0.,  1.,  0.,  0.],\n",
       "       [ 0.,  0.,  1.,  0.],\n",
       "       [ 0.,  0.,  0.,  1.]])"
      ]
     },
     "execution_count": 40,
     "metadata": {},
     "output_type": "execute_result"
    }
   ],
   "source": [
    "np.eye(4)"
   ]
  },
  {
   "cell_type": "code",
   "execution_count": 43,
   "metadata": {},
   "outputs": [
    {
     "data": {
      "text/plain": [
       "array([ 0.57388615,  0.15844525,  0.49590401,  0.66757355,  0.65665975,\n",
       "        0.64332199,  0.62050821,  0.46650227,  0.01212842,  0.45274285])"
      ]
     },
     "execution_count": 43,
     "metadata": {},
     "output_type": "execute_result"
    }
   ],
   "source": [
    "np.random.rand(10)"
   ]
  },
  {
   "cell_type": "code",
   "execution_count": 44,
   "metadata": {},
   "outputs": [
    {
     "data": {
      "text/plain": [
       "array([[ 0.68623426,  0.40196327],\n",
       "       [ 0.98091357,  0.79737913],\n",
       "       [ 0.15853148,  0.89333938],\n",
       "       [ 0.24630181,  0.56094179],\n",
       "       [ 0.98539768,  0.87474483],\n",
       "       [ 0.01689851,  0.89268642],\n",
       "       [ 0.03134532,  0.28228893],\n",
       "       [ 0.60298521,  0.08543409],\n",
       "       [ 0.58978541,  0.33368994],\n",
       "       [ 0.95485477,  0.747144  ]])"
      ]
     },
     "execution_count": 44,
     "metadata": {},
     "output_type": "execute_result"
    }
   ],
   "source": [
    "np.random.rand(10,2)"
   ]
  },
  {
   "cell_type": "code",
   "execution_count": 45,
   "metadata": {},
   "outputs": [
    {
     "data": {
      "text/plain": [
       "array([[ 0.02036394,  0.51831322,  0.52418044,  0.49175996,  0.06025694,\n",
       "         0.54549092,  0.60914276,  0.82511116,  0.9732564 ,  0.23086564],\n",
       "       [ 0.18820024,  0.66110783,  0.61513727,  0.92681151,  0.18172565,\n",
       "         0.86138267,  0.17643951,  0.94290125,  0.32050452,  0.96933126],\n",
       "       [ 0.02723124,  0.49442974,  0.1856487 ,  0.48339126,  0.85958508,\n",
       "         0.43502379,  0.74989639,  0.52944569,  0.16271346,  0.65766685],\n",
       "       [ 0.25025449,  0.83707689,  0.7661576 ,  0.04438485,  0.74652835,\n",
       "         0.12448576,  0.1471581 ,  0.25025771,  0.06154668,  0.59271542],\n",
       "       [ 0.1405519 ,  0.63975975,  0.48336966,  0.67266105,  0.59074452,\n",
       "         0.67908005,  0.27729529,  0.32951856,  0.37210545,  0.38892889],\n",
       "       [ 0.91702933,  0.40392021,  0.79664225,  0.31298666,  0.31455064,\n",
       "         0.67041579,  0.76031602,  0.98293108,  0.77735044,  0.99192592],\n",
       "       [ 0.99820068,  0.3026157 ,  0.49633615,  0.17860444,  0.5716616 ,\n",
       "         0.44496984,  0.97749607,  0.65301891,  0.7557635 ,  0.6332142 ],\n",
       "       [ 0.35255609,  0.95671292,  0.67307595,  0.32841585,  0.99915302,\n",
       "         0.87068812,  0.75523554,  0.58325029,  0.76858821,  0.99615441],\n",
       "       [ 0.08199478,  0.02714801,  0.30453364,  0.89710104,  0.23377528,\n",
       "         0.23093881,  0.47459328,  0.3130728 ,  0.78770776,  0.87576548],\n",
       "       [ 0.48894645,  0.60555008,  0.92578649,  0.74346807,  0.40186488,\n",
       "         0.35164156,  0.43551321,  0.8315105 ,  0.50149417,  0.34895313]])"
      ]
     },
     "execution_count": 45,
     "metadata": {},
     "output_type": "execute_result"
    }
   ],
   "source": [
    "np.random.rand(10,10)"
   ]
  },
  {
   "cell_type": "code",
   "execution_count": 46,
   "metadata": {},
   "outputs": [
    {
     "data": {
      "text/plain": [
       "array([[ 0.30782937,  1.38412257],\n",
       "       [ 0.79137925, -0.11699618],\n",
       "       [-0.36424452, -0.01990259],\n",
       "       [ 0.46377588, -2.22981063],\n",
       "       [ 1.47117204, -0.83054345],\n",
       "       [ 0.58984986,  0.20300013],\n",
       "       [-0.09628501,  1.40715614],\n",
       "       [-2.29385743, -0.26163193],\n",
       "       [-0.28035105, -0.40601427],\n",
       "       [ 0.41943403, -1.7488784 ]])"
      ]
     },
     "execution_count": 46,
     "metadata": {},
     "output_type": "execute_result"
    }
   ],
   "source": [
    "np.random.randn(10,2)"
   ]
  },
  {
   "cell_type": "code",
   "execution_count": 52,
   "metadata": {},
   "outputs": [
    {
     "data": {
      "text/plain": [
       "4"
      ]
     },
     "execution_count": 52,
     "metadata": {},
     "output_type": "execute_result"
    }
   ],
   "source": [
    "np.random.randint(0,10)"
   ]
  },
  {
   "cell_type": "code",
   "execution_count": 53,
   "metadata": {},
   "outputs": [
    {
     "data": {
      "text/plain": [
       "array([57, 52, 84, 88, 96, 32, 82,  5, 17, 96, 89, 88, 62, 99,  7, 47, 28,\n",
       "       40, 18, 95])"
      ]
     },
     "execution_count": 53,
     "metadata": {},
     "output_type": "execute_result"
    }
   ],
   "source": [
    "np.random.randint(1,100,20)"
   ]
  },
  {
   "cell_type": "code",
   "execution_count": 54,
   "metadata": {
    "collapsed": true
   },
   "outputs": [],
   "source": [
    "#all should be true"
   ]
  },
  {
   "cell_type": "code",
   "execution_count": 56,
   "metadata": {},
   "outputs": [
    {
     "data": {
      "text/plain": [
       "True"
      ]
     },
     "execution_count": 56,
     "metadata": {},
     "output_type": "execute_result"
    }
   ],
   "source": [
    "arr.any()"
   ]
  },
  {
   "cell_type": "code",
   "execution_count": 57,
   "metadata": {},
   "outputs": [
    {
     "data": {
      "text/plain": [
       "False"
      ]
     },
     "execution_count": 57,
     "metadata": {},
     "output_type": "execute_result"
    }
   ],
   "source": [
    "arr.all()"
   ]
  },
  {
   "cell_type": "code",
   "execution_count": 58,
   "metadata": {},
   "outputs": [
    {
     "data": {
      "text/plain": [
       "dtype('int64')"
      ]
     },
     "execution_count": 58,
     "metadata": {},
     "output_type": "execute_result"
    }
   ],
   "source": [
    "arr.dtype"
   ]
  },
  {
   "cell_type": "code",
   "execution_count": 59,
   "metadata": {},
   "outputs": [
    {
     "data": {
      "text/plain": [
       "dtype('float64')"
      ]
     },
     "execution_count": 59,
     "metadata": {},
     "output_type": "execute_result"
    }
   ],
   "source": [
    "zero_arr.dtype"
   ]
  },
  {
   "cell_type": "code",
   "execution_count": 60,
   "metadata": {},
   "outputs": [
    {
     "data": {
      "text/plain": [
       "array([ 0.        ,  1.        ,  1.41421356,  1.73205081,  2.        ,\n",
       "        2.23606798,  2.44948974,  2.64575131,  2.82842712,  3.        ])"
      ]
     },
     "execution_count": 60,
     "metadata": {},
     "output_type": "execute_result"
    }
   ],
   "source": [
    "np.sqrt(arr)"
   ]
  },
  {
   "cell_type": "code",
   "execution_count": 61,
   "metadata": {},
   "outputs": [
    {
     "data": {
      "text/plain": [
       "9"
      ]
     },
     "execution_count": 61,
     "metadata": {},
     "output_type": "execute_result"
    }
   ],
   "source": [
    "np.max(arr)"
   ]
  },
  {
   "cell_type": "code",
   "execution_count": 62,
   "metadata": {},
   "outputs": [
    {
     "data": {
      "text/plain": [
       "3.0"
      ]
     },
     "execution_count": 62,
     "metadata": {},
     "output_type": "execute_result"
    }
   ],
   "source": [
    "np.max(np.sqrt(arr))"
   ]
  },
  {
   "cell_type": "code",
   "execution_count": 63,
   "metadata": {},
   "outputs": [
    {
     "data": {
      "text/plain": [
       "array([ 0.        ,  1.        ,  1.41421356,  1.73205081,  2.        ,\n",
       "        2.23606798,  2.44948974,  2.64575131,  2.82842712,  3.        ])"
      ]
     },
     "execution_count": 63,
     "metadata": {},
     "output_type": "execute_result"
    }
   ],
   "source": [
    "np.absolute(np.sqrt(arr))"
   ]
  },
  {
   "cell_type": "code",
   "execution_count": 64,
   "metadata": {},
   "outputs": [
    {
     "data": {
      "text/plain": [
       "array([ 0.,  1.,  1.,  1.,  2.,  2.,  2.,  2.,  2.,  3.])"
      ]
     },
     "execution_count": 64,
     "metadata": {},
     "output_type": "execute_result"
    }
   ],
   "source": [
    "np.floor(np.sqrt(arr))"
   ]
  },
  {
   "cell_type": "code",
   "execution_count": 65,
   "metadata": {},
   "outputs": [
    {
     "data": {
      "text/plain": [
       "array([ 0.,  1.,  2.,  2.,  2.,  3.,  3.,  3.,  3.,  3.])"
      ]
     },
     "execution_count": 65,
     "metadata": {},
     "output_type": "execute_result"
    }
   ],
   "source": [
    "np.ceil(np.sqrt(arr))"
   ]
  },
  {
   "cell_type": "code",
   "execution_count": null,
   "metadata": {
    "collapsed": true
   },
   "outputs": [],
   "source": []
  }
 ],
 "metadata": {
  "kernelspec": {
   "display_name": "Python 3",
   "language": "python",
   "name": "python3"
  },
  "language_info": {
   "codemirror_mode": {
    "name": "ipython",
    "version": 3
   },
   "file_extension": ".py",
   "mimetype": "text/x-python",
   "name": "python",
   "nbconvert_exporter": "python",
   "pygments_lexer": "ipython3",
   "version": "3.6.3"
  }
 },
 "nbformat": 4,
 "nbformat_minor": 2
}
